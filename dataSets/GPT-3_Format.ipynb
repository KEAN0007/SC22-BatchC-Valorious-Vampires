{
 "cells": [
  {
   "cell_type": "code",
   "execution_count": 29,
   "metadata": {
    "collapsed": false
   },
   "outputs": [
    {
     "name": "stdout",
     "output_type": "stream",
     "text": [
      "cream cheese, hot sauce, chicken, shredded monterey jack cheese, mozzarella cheese, refrigerated crescent dinner roll|Cheesy Buffalo Chicken Ring\n",
      "\n",
      "4 oz cream cheese\n",
      "¼ cup hot sauce\n",
      "2 ½ cups chicken\n",
      "1 cup shredded monterey jack cheese\n",
      "1 cup mozzarella cheese\n",
      "8 oz refrigerated crescent dinner roll\n",
      "\n",
      "1. In a bowl, mix cream cheese and hot sauce until smooth.\n",
      "2. Mix in chicken and Monterey Jack cheese.\n",
      "3. Unroll cans of dough, separate into triangles. On a large cookie sheet, arrange the triangles in ring, dough should overlap, leaving around 5 inches (12 ¾ cm) in the center.\n",
      "4. Layer half of the Mozzarella on each triangle closest to the ring.\n",
      "5. Spoon mixture on top of the Mozzarella. Top with the rest of the Mozzarella.\n",
      "6. Bring the top of the triangle over the filling and tuck the edges under the bottom layer of dough. Repeat around the ring until the entire filling is enclosed.\n",
      "7. Bake at 375˚F (190˚C) for 35 minutes or until the dough is golden brown.\n",
      "8. Cool 5 to 10 minutes before cutting into serving slices. Serve with choice dressing.\n",
      "9. Enjoy!\n"
     ]
    }
   ],
   "source": [
    "import json\n",
    "\n",
    "# Open the dataset JSON with [r]ead privileges\n",
    "with open(\"dataSets/ingredient_and_instructions.json\", \"r\") as dataSet:\n",
    "    data = json.load(dataSet)\n",
    "\n",
    "recipe = \"\"                # The individual recipe\n",
    "recipe_list = []           # Where we will store the recipe for training\n",
    "\n",
    "title = \"\"                  # The title of the recipe\n",
    "ingredients_list = []       # The ingredients of the recipe\n",
    "ingredient_items = []       # The ingredients without units/qtys\n",
    "instructions = []           # The instructions of the recipe\n",
    "\n",
    "for meal in data:\n",
    "    # Get the recipe name and its instructions\n",
    "    meal_info = data[meal]\n",
    "    title = meal.replace(\"-\", \" \").title() + \"\\n\"\n",
    "    recipe_instructions = meal_info[\"instructions\"]\n",
    "\n",
    "    # Get the ingredients\n",
    "    ingredients = meal_info[\"ingredient_sections\"]\n",
    "\n",
    "    for i in ingredients:\n",
    "        # Retrieve ingredients and their details\n",
    "        item = \"\"           # Dough\n",
    "        qty = \"\"            # ½\n",
    "        unit = \"\"           # cup\n",
    "        ingredient = \"\"     # unsalted butter\n",
    "        primary_unit = { \"quantity\": None, \"display\": None }\n",
    "\n",
    "        # Sometimes recipes will depend upon already made ingredients, \n",
    "        # which need their own set of ingredients.\n",
    "        if i[\"name\"]:\n",
    "            if i[\"name\"][-1] != \":\": # If there isnt a colon, add one\n",
    "                item = \"\\n\" + i[\"name\"] + \": \"\n",
    "            else: # Otherwise, just add the name\n",
    "                item = \"\\n\" + i[\"name\"] + \" \"\n",
    "        else:\n",
    "            item = \"\"\n",
    "\n",
    "        ingredients_list.append(\"\" + item) # Add the ingredient to the list\n",
    "\n",
    "        # Loop over each ingredient\n",
    "        j = 0\n",
    "        while j < len(i[\"ingredients\"]):\n",
    "            # i[\"ingredients\"][j] may not exist, use try/except to prevent\n",
    "            # any ListIndexErrors from accessing an index that doesn't exist\n",
    "            try: primary_unit = i[\"ingredients\"][j][\"primary_unit\"]\n",
    "            except: primary_unit = { \"quantity\": None, \"display\": None } # Dummy object\n",
    "\n",
    "            # Some recipes don't list an ingredient at all\n",
    "            try: ingredient += i[\"ingredients\"][j][\"name\"]\n",
    "            except: ingredient += \"\"\n",
    "\n",
    "            # If the try/except blocks above are successful, we can set the values\n",
    "            if primary_unit[\"quantity\"]: qty = primary_unit[\"quantity\"] + \" \"\n",
    "            if primary_unit[\"display\"]: unit = primary_unit[\"display\"] + \" \"\n",
    "\n",
    "            # Construct the ingredient and add it to the list\n",
    "            # Additionally, add the ingredient's name to the \n",
    "            # ingredient_items list\n",
    "            ingredients_list.append(qty + unit  + ingredient)\n",
    "            ingredient_items.append(ingredient)\n",
    "            ingredient = \"\" # Cleanup\n",
    "            j += 1\n",
    "\n",
    "    # Loop over the instructions and format them\n",
    "    step = 1\n",
    "    for text in recipe_instructions:\n",
    "        instruction = text[\"display_text\"]\n",
    "        instructions.append(str(step) + \". \" + instruction)\n",
    "        step += 1\n",
    "\n",
    "    # Finally we can construct our recipe\n",
    "    # We need to add the ingredient names first, as they will represent\n",
    "    # how the user will input the ingredients for the recipe. After\n",
    "    # that, we can add the title, ingredients, and instructions.\n",
    "    recipe = \", \".join(ingredient_items)\n",
    "    recipe += \"|\"\n",
    "    recipe += title  + \"\\n\".join(ingredients_list) + \"\\n\\n\" + \"\\n\".join(instructions)\n",
    "\n",
    "    # Add the recipe to the list\n",
    "    recipe_list.append(recipe)\n",
    "\n",
    "    # Free up memory for the next recipe\n",
    "    title = \"\"\n",
    "    ingredients_list = []\n",
    "    ingredient_items = []\n",
    "    instructions = []\n",
    "\n",
    "    meal_info = {}\n",
    "    recipe = \"\"\n",
    "    recipe_instructions = []\n",
    "    ingredients = []\n",
    "\n",
    "    item = \"\"\n",
    "    qty = \"\"\n",
    "    unit = \"\"\n",
    "    ingredient = \"\"\n",
    "    primary_unit = { \"quantity\": None, \"display\": None }\n",
    "\n",
    "    step = 1\n",
    "\n",
    "# For testing purposes, we can output a random recipe\n",
    "import random\n",
    "print(recipe_list[random.randint(0, len(recipe_list) - 1)])\n",
    "\n",
    "#print(recipe_list[0])"
   ]
  },
  {
   "cell_type": "markdown",
   "metadata": {
    "collapsed": false
   },
   "source": [
   ]
  },
  {
   "cell_type": "code",
   "execution_count": 30,
   "metadata": {
    "collapsed": false,
    "scrolled": true
   },
   "outputs": [
    {
     "name": "stdout",
     "output_type": "stream",
     "text": [
      "unsalted butter, whole milk, granulated sugar, active dry yeast, flour, baking powder, salt, butter, light brown sugar, ground cinnamon, cream cheese, butter, whole milk, vanilla extract, powdered sugar|Homemade Cinnamon Rolls\n",
      "\n",
      "Dough: \n",
      "½ cup unsalted butter\n",
      "2 cups whole milk\n",
      "½ cup granulated sugar\n",
      "2 ¼ teaspoons active dry yeast\n",
      "5 cups flour\n",
      "1 teaspoon baking powder\n",
      "2 teaspoons salt\n",
      "\n",
      "Filling: \n",
      "¾ cup butter\n",
      "¾ cup light brown sugar\n",
      "2 tablespoons ground cinnamon\n",
      "\n",
      "Frosting: \n",
      "4 oz cream cheese\n",
      "2 tablespoons butter\n",
      "2 tablespoons whole milk\n",
      "1 teaspoon vanilla extract\n",
      "1 cup powdered sugar\n",
      "\n",
      "1. Generously butter two disposable foil pie/cake pans.\n",
      "2. In a large bowl, whisk together warm milk, melted butter, and granulated sugar. The mixture should be just warm, registering between 100-110˚F (37-43˚C). If it is hotter, allow to cool slightly.\n",
      "3. Sprinkle the yeast evenly over the warm mixture and let set for 1 minute.\n",
      "4. Add 4 cups (500g) of all-purpose flour to the milk mixture and mix with a wooden spoon until just combined.\n",
      "5. Cover the bowl with a towel or plastic wrap and set in a warm place to rise for 1 hour.\n",
      "6. After 1 hour, the dough should have nearly doubled in size.\n",
      "7. Remove the towel and add an additional ¾ cup (95g) of flour, the baking powder, and salt. Stir well, then turn out onto a well-floured surface.\n",
      "8. Knead the dough lightly, adding additional flour as necessary, until the dough just loses its stickiness and does not stick to the surface.\n",
      "9. Roll the dough out into a large rectangle, about ½-inch (1 cm) thick. Fix corners to make sure they are sharp and even.\n",
      "10. Spread the softened butter evenly over the dough.\n",
      "11. Sprinkle evenly with brown sugar and a generous sprinkling of cinnamon.\n",
      "12. Press the mixture into the butter.\n",
      "13. Roll up the dough, forming a log, and pinch the seam closed. Place seam-side down. Trim off any unevenness on either end.\n",
      "14. Cut the log in half, then divide each half into 7 evenly sized pieces. About 1½ inches (8cm) thick each.\n",
      "15. Place 7 cinnamon rolls in each cake pan, one in the center, six around the sides. Cover with plastic wrap and place in a warm place to rise for 30 minutes.\n",
      "16. Preheat oven to 350˚F (180˚C).\n",
      "17. To prepare the frosting. In a medium-size mixing bowl, whisk together cream cheese, butter, whole milk, vanilla, and powdered sugar, until smooth.\n",
      "18. Remove plastic wrap. Bake the cinnamon rolls in a preheated oven for 25-30 minutes, until golden brown.\n",
      "19. While still warm, drizzle evenly with frosting.\n",
      "20. Enjoy!\n"
     ]
    }
   ],
   "source": [
    "print(recipe_list[0])"
   ]
  },
  {
   "cell_type": "code",
   "execution_count": 31,
   "metadata": {
    "collapsed": false
   },
   "outputs": [
   ],
   "source": [
    "#CSV File 1 Record per row\n",
    "#Record: 1 string with ingredients + recipe\n",
    "# [[recipe1], [recipe2], [recipe3]]\n",
    "\n",
    "import csv\n",
    "\n",
    "with open(\"recipe_GPT3.csv\", 'w', newline='') as csvfile:\n",
    "    csvwriter = csv.writer(csvfile)\n",
    "    csvwriter.writerow([\"prompt\",\"completion\"])\n",
    "    for recipe in recipe_list:\n",
    "        newrecipe=recipe.split(\"|\")\n",
    "        csvwriter.writerow([newrecipe[0],newrecipe[1]])"
   ]
  },
  {
   "cell_type": "code",
   "execution_count": 0,
   "metadata": {
    "collapsed": false
   },
   "outputs": [
   ],
   "source": [
   ]
  }
 ],
 "metadata": {
  "kernelspec": {
   "display_name": "Python (nlp_env)",
   "language": "python",
   "metadata": {
    "debugger": true
   },
   "name": "nlp_env",
   "resource_dir": "/projects/b9e0cba5-06d0-4604-824f-bbb5d6223324/.local/share/jupyter/kernels/nlp_env"
  },
  "language_info": {
   "codemirror_mode": {
    "name": "ipython",
    "version": 3
   },
   "file_extension": ".py",
   "mimetype": "text/x-python",
   "name": "python",
   "nbconvert_exporter": "python",
   "pygments_lexer": "ipython3",
   "version": "3.8.13"
  }
 },
 "nbformat": 4,
 "nbformat_minor": 4
}