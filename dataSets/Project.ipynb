{
 "cells": [
  {
   "cell_type": "code",
   "execution_count": 2,
   "metadata": {
    "collapsed": false,
    "scrolled": true
   },
   "outputs": [
    {
     "name": "stdout",
     "output_type": "stream",
     "text": [
      "unsalted butter, all-purpose flour, milk, rotisserie chicken, frozen pea and carrot, frozen pearl onion, small potato, kosher salt, black pepper, biscuit flour, baking powder, baking soda, kosher salt, unsalted butter, buttermilk, large egg, shredded cheddar cheese, chives<EOI>\n",
      "\n",
      "Cheddar Biscuit Chicken Pot Pie\n",
      "\n",
      "Filling: \n",
      "3 tablespoons unsalted butter\n",
      "¼ cup all-purpose flour\n",
      "3 cups milk\n",
      "1 cups rotisserie chicken\n",
      "1 ½ cups frozen pea and carrot\n",
      "½ cup frozen pearl onion\n",
      "1 cup small potato\n",
      "1 tablespoon kosher salt\n",
      "2 teaspoons black pepper\n",
      "\n",
      "Cheddar Biscuits: \n",
      "4 cups biscuit flour\n",
      "4 teaspoons baking powder\n",
      "½ teaspoon baking soda\n",
      "1 teaspoon kosher salt\n",
      "1 cup unsalted butter\n",
      "1 cup buttermilk\n",
      "1 cup large egg\n",
      "1 cup shredded cheddar cheese\n",
      "¼ cup chives\n",
      "\n",
      "1. Preheat the oven to 375ºF (190ºC).\n",
      "2. Make the filling: Melt the butter in a large cast-iron skillet over medium-high heat. Add the the flour and whisk until bubbling.\n",
      "3. Whisk in the milk until smooth, then add the chicken, peas and carrots, pearl onions, potato, salt, and pepper . Stir until everything is well coated, then continue to cook until the filling is bubbling and the liquid has thickened slightly, 7-10 minutes. Remove the pan from the heat.\n",
      "4. Make the biscuits: In a large bowl, stir together the flour, baking powder, baking soda, and salt.\n",
      "5. Using your a fork, your hands, or a pastry cutter, work the butter into the dry ingredients, leaving pea-sized chunks.\n",
      "6. Add the buttermilk and fold with a rubber spatula until a thick dough comes together.\n",
      "7. Turn the dough out onto a lightly floured surface. Bring the dough together into one large mass, then roll out with a rolling pin to about 1 ½-2 inches (4-5 centimeters) thick.\n",
      "8. Using a 2-3-inch (5-7 centimeter) biscuit cutter or small glass dipped in flour, cut out rounds from the dough. Cut out all of the rounds, then place on top of the filling so the dough does not warm too much. Re-roll the dough scraps if needed. You should have about 10 biscuits total.\n",
      "9. Brush tops of the biscuits with the beaten egg and top with cheddar cheese.\n",
      "10. Bake for 25-30 minutes, until the biscuits are golden brown and cooked through. Carefully remove from the oven and let cool for 10 minutes. Garnish with chives before serving.\n",
      "11. Enjoy!\n"
     ]
    }
   ],
   "source": [
    "import json\n",
    "\n",
    "# Open the dataset JSON with [r]ead privileges\n",
    "with open(\"dataSets/ingredient_and_instructions.json\", \"r\") as dataSet:\n",
    "    data = json.load(dataSet)\n",
    "\n",
    "recipie = \"\"                # The individual recipie\n",
    "recipie_list = []           # Where we will store the recipie for training\n",
    "\n",
    "title = \"\"                  # The title of the recipie\n",
    "ingredients_list = []       # The ingredients of the recipie\n",
    "ingredient_items = []       # The ingredients without units/qtys\n",
    "instructions = []           # The instructions of the recipie\n",
    "\n",
    "for meal in data:\n",
    "    # Get the recipie name and its instructions\n",
    "    meal_info = data[meal]\n",
    "    title = meal.replace(\"-\", \" \").title() + \"\\n\"\n",
    "    recipe_instructions = meal_info[\"instructions\"]\n",
    "\n",
    "    # Get the ingredients\n",
    "    ingredients = meal_info[\"ingredient_sections\"]\n",
    "\n",
    "    for i in ingredients:\n",
    "        # Retrieve ingredients and their details\n",
    "        item = \"\"           # Dough\n",
    "        qty = \"\"            # ½\n",
    "        unit = \"\"           # cup\n",
    "        ingredient = \"\"     # unsalted butter\n",
    "        primary_unit = { \"quantity\": None, \"display\": None }\n",
    "\n",
    "        # Sometimes recipies will depend upon already made ingredients, \n",
    "        # which need their own set of ingredients.\n",
    "        if i[\"name\"]:\n",
    "            if i[\"name\"][-1] != \":\": # If there isnt a colon, add one\n",
    "                item = \"\\n\" + i[\"name\"] + \": \"\n",
    "            else: # Otherwise, just add the name\n",
    "                item = \"\\n\" + i[\"name\"] + \" \"\n",
    "        else:\n",
    "            item = \"\"\n",
    "\n",
    "        ingredients_list.append(\"\" + item) # Add the ingredient to the list\n",
    "\n",
    "        # Loop over each ingredient\n",
    "        j = 0\n",
    "        while j < len(i[\"ingredients\"]):\n",
    "            # i[\"ingredients\"][j] may not exist, use try/except to prevent\n",
    "            # any ListIndexErrors from accessing an index that doesn't exist\n",
    "            try: primary_unit = i[\"ingredients\"][j][\"primary_unit\"]\n",
    "            except: primary_unit = { \"quantity\": None, \"display\": None } # Dummy object\n",
    "\n",
    "            # Some recipies don't list an ingredient at all\n",
    "            try: ingredient += i[\"ingredients\"][j][\"name\"]\n",
    "            except: ingredient += \"\"\n",
    "\n",
    "            # If the try/except blocks above are successful, we can set the values\n",
    "            if primary_unit[\"quantity\"]: qty = primary_unit[\"quantity\"] + \" \"\n",
    "            if primary_unit[\"display\"]: unit = primary_unit[\"display\"] + \" \"\n",
    "\n",
    "            # Construct the ingredient and add it to the list\n",
    "            # Additionally, add the ingredient's name to the \n",
    "            # ingredient_items list\n",
    "            ingredients_list.append(qty + unit  + ingredient)\n",
    "            ingredient_items.append(ingredient)\n",
    "            ingredient = \"\" # Cleanup\n",
    "            j += 1\n",
    "\n",
    "    # Loop over the instructions and format them\n",
    "    step = 1\n",
    "    for text in recipe_instructions:\n",
    "        instruction = text[\"display_text\"]\n",
    "        instructions.append(str(step) + \". \" + instruction)\n",
    "        step += 1\n",
    "\n",
    "    # Finally we can construct our recipie\n",
    "    # We need to add the ingredient names first, as they will represent\n",
    "    # how the user will input the ingredients for the recipie. After\n",
    "    # that, we can add the title, ingredients, and instructions.\n",
    "    recipie = \", \".join(ingredient_items) + \"<EOI>\" + \"\\n\\n\"\n",
    "    recipie += title  + \"\\n\".join(ingredients_list) + \"\\n\\n\" + \"\\n\".join(instructions)\n",
    "    \n",
    "    \n",
    "    # Add the recipie to the list\n",
    "    recipie_list.append(recipie)\n",
    "\n",
    "    # Free up memory for the next recipie\n",
    "    title = \"\"\n",
    "    ingredients_list = []\n",
    "    ingredient_items = []\n",
    "    instructions = []\n",
    "\n",
    "    meal_info = {}\n",
    "    recipie = \"\"\n",
    "    recipe_instructions = []\n",
    "    ingredients = []\n",
    "\n",
    "    item = \"\"\n",
    "    qty = \"\"\n",
    "    unit = \"\"\n",
    "    ingredient = \"\"\n",
    "    primary_unit = { \"quantity\": None, \"display\": None }\n",
    "\n",
    "    step = 1\n",
    "\n",
    "# For testing purposes, we can output a random recipie\n",
    "import random\n",
    "print(recipie_list[random.randint(0, len(recipie_list) - 1)])\n",
    "\n",
    "#print(recipie_list[0])\n"
   ]
  },
  {
   "cell_type": "code",
   "execution_count": 0,
   "metadata": {
    "collapsed": false
   },
   "outputs": [
   ],
   "source": [
   ]
  },
  {
   "cell_type": "markdown",
   "metadata": {
    "collapsed": false
   },
   "source": [
   ]
  },
  {
   "cell_type": "code",
   "execution_count": 3,
   "metadata": {
    "collapsed": false
   },
   "outputs": [
   ],
   "source": [
    "#CSV File 1 Record per row\n",
    "#Record: 1 string with ingredients + recipe\n",
    "\n",
    "\n",
    "# [[recipe1], [recipe2], [recipe3]]\n",
    "\n",
    "import csv\n",
    "\n",
    "with open(\"recipe.csv\", 'w', newline='') as csvfile:\n",
    "    csvwriter = csv.writer(csvfile)\n",
    "    for recipie in recipie_list:\n",
    "        csvwriter.writerow([recipie])"
   ]
  },
  {
   "cell_type": "code",
   "execution_count": 0,
   "metadata": {
    "collapsed": false
   },
   "outputs": [
   ],
   "source": [
   ]
  }
 ],
 "metadata": {
  "kernelspec": {
   "display_name": "Python (nlp_env)",
   "language": "python",
   "metadata": {
    "debugger": true
   },
   "name": "nlp_env",
   "resource_dir": "/projects/b9e0cba5-06d0-4604-824f-bbb5d6223324/.local/share/jupyter/kernels/nlp_env"
  },
  "language_info": {
   "codemirror_mode": {
    "name": "ipython",
    "version": 3
   },
   "file_extension": ".py",
   "mimetype": "text/x-python",
   "name": "python",
   "nbconvert_exporter": "python",
   "pygments_lexer": "ipython3",
   "version": "3.8.13"
  }
 },
 "nbformat": 4,
 "nbformat_minor": 4
}