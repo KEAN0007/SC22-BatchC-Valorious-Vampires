{
 "cells": [
  {
   "cell_type": "code",
   "execution_count": 12,
   "metadata": {
    "cocalc": {
     "outputs": {
      "0": {
       "name": "input",
       "opts": {
        "password": false,
        "prompt": "Player 1, enter your move (i.e. A1): "
       },
       "output_type": "stream",
       "value": "A0"
      },
      "10": {
       "name": "input",
       "opts": {
        "password": false,
        "prompt": "Player 1, enter your move (i.e. A1): "
       },
       "output_type": "stream",
       "value": "C0"
      },
      "2": {
       "name": "input",
       "opts": {
        "password": false,
        "prompt": "Player 2, enter your move (i.e. A1): "
       },
       "output_type": "stream",
       "value": "A1"
      },
      "4": {
       "name": "input",
       "opts": {
        "password": false,
        "prompt": "Player 1, enter your move (i.e. A1): "
       },
       "output_type": "stream",
       "value": "B0"
      },
      "6": {
       "name": "input",
       "opts": {
        "password": false,
        "prompt": "Player 2, enter your move (i.e. A1): "
       },
       "output_type": "stream",
       "value": "B0"
      },
      "8": {
       "name": "input",
       "opts": {
        "password": false,
        "prompt": "Player 2, enter your move (i.e. A1): "
       },
       "output_type": "stream",
       "value": "B2"
      }
     }
    },
    "collapsed": false,
    "scrolled": true
   },
   "outputs": [
    {
     "name": "stdout",
     "output_type": "stream",
     "text": "Player 1, enter your move (i.e. A1):  A0"
    },
    {
     "name": "stdout",
     "output_type": "stream",
     "text": [
      "   A B C\n",
      "0  X    \n",
      "1       \n",
      "2       \n"
     ]
    },
    {
     "name": "stdout",
     "output_type": "stream",
     "text": "Player 2, enter your move (i.e. A1):  A1"
    },
    {
     "name": "stdout",
     "output_type": "stream",
     "text": [
      "   A B C\n",
      "0  X    \n",
      "1  O    \n",
      "2       \n"
     ]
    },
    {
     "name": "stdout",
     "output_type": "stream",
     "text": "Player 1, enter your move (i.e. A1):  B0"
    },
    {
     "name": "stdout",
     "output_type": "stream",
     "text": [
      "   A  B C\n",
      "0  X  X  \n",
      "1  O     \n",
      "2        \n"
     ]
    },
    {
     "name": "stdout",
     "output_type": "stream",
     "text": "Player 2, enter your move (i.e. A1):  B0"
    },
    {
     "name": "stdout",
     "output_type": "stream",
     "text": [
      "That spot is already taken!\n"
     ]
    },
    {
     "name": "stdout",
     "output_type": "stream",
     "text": "Player 2, enter your move (i.e. A1):  B2"
    },
    {
     "name": "stdout",
     "output_type": "stream",
     "text": [
      "   A  B C\n",
      "0  X  X  \n",
      "1  O     \n",
      "2     O  \n"
     ]
    },
    {
     "name": "stdout",
     "output_type": "stream",
     "text": "Player 1, enter your move (i.e. A1):  C0"
    },
    {
     "name": "stdout",
     "output_type": "stream",
     "text": [
      "   A  B  C\n",
      "0  X  X  X\n",
      "1  O      \n",
      "2     O   \n",
      "Congratulations! X wins! git gud O\n"
     ]
    }
   ],
   "source": [
    "import pandas as pd\n",
    "\n",
    "# Pandas DataFrame representing the board\n",
    "data = pd.DataFrame({'A': [\"\", \"\", \"\"], 'B': [\"\",\"\",\"\"], 'C': [\"\",\"\",\"\"]})\n",
    "\n",
    "# Player 1 = X, Player 2 = O\n",
    "# Start defining game variables here\n",
    "move = \"\" # ex. \"A1\"\n",
    "turn = False\n",
    "game = True\n",
    "valid = False\n",
    "\n",
    "def checkwin():\n",
    "    # Horizontal\n",
    "    if data.at[0, \"A\"] == data.at[0, \"B\"] and data.at[0, \"B\"] == data.at[0, \"C\"] and data.at[0, \"A\"] != \"\":\n",
    "        return True\n",
    "    if data.at[1, \"A\"] == data.at[1, \"B\"] and data.at[1, \"B\"] == data.at[1, \"C\"] and data.at[1, \"A\"] != \"\":\n",
    "        return True\n",
    "    if data.at[2, \"A\"] == data.at[2, \"B\"] and data.at[2, \"B\"] == data.at[2, \"C\"] and data.at[2, \"A\"] != \"\":\n",
    "        return True\n",
    "\n",
    "    # Vertical\n",
    "    if data.at[0,\"A\"] == data.at[1, \"A\"] and data.at[1, \"A\"] == data.at[2, \"A\"] and data.at[0, \"A\"] != \"\":\n",
    "        return True\n",
    "    if data.at[0,\"B\"] == data.at[1, \"B\"] and data.at[1,\"B\"] == data.at[2,\"B\"] and data.at[0,\"B\"] != \"\":\n",
    "        return True\n",
    "    if data.at[0,\"C\"] == data.at[1,\"C\"] and data.at[1,\"C\"] == data.at[2,\"C\"] and data.at[0,\"C\"] != \"\":\n",
    "        return True\n",
    "\n",
    "    # Diagonal\n",
    "    if data.at[0, \"A\"] == data.at[1, \"B\"] and data.at[1, \"B\"] == data.at[2, \"C\"] and data.at[0, \"A\"] != \"\":\n",
    "        return True\n",
    "    if data.at[2, \"A\"] == data.at[1, \"B\"] and data.at[1, \"B\"] == data.at[0, \"C\"] and data.at[2, \"A\"] != \"\":\n",
    "        return True\n",
    "\n",
    "for x in range(8):\n",
    "    # After a rounds, check if someone's won the game\n",
    "    if checkwin() == True:\n",
    "        if not turn:\n",
    "            print(\"Congratulations! O wins! git gud X\")\n",
    "        else:\n",
    "            print(\"Congratulations! X wins! git gud O\")\n",
    "        break\n",
    "    else:\n",
    "        # Ask for input until valid (Letter and number combination)\n",
    "        while valid == False:\n",
    "            move = input(\"Player \" + str(turn + 1) + \", enter your move (i.e. A1): \")\n",
    "\n",
    "            # Check if input is valid\n",
    "            if len(move) != 2 or move[0] not in [\"A\", \"B\", \"C\"] or move[1] not in [\"0\", \"1\", \"2\"]:\n",
    "                print(\"Invalid input. Please try again.\")\n",
    "                valid = False\n",
    "            else:\n",
    "                # Check if the spot is already taken\n",
    "                if data.at[int(move[1]), move[0]] == \"\":\n",
    "                    valid = True\n",
    "                    break\n",
    "                else:\n",
    "                    print(\"That spot is already taken!\")\n",
    "                    valid = False\n",
    "\n",
    "        # Finally, update the board\n",
    "        if turn == False:\n",
    "            data.at[int(move[1]), move[0]] = \"X\"\n",
    "        else:\n",
    "            data.at[int(move[1]), move[0]] = \"O\" \n",
    "\n",
    "        # Cleanup and switch turns\n",
    "        print(data)\n",
    "        turn = not turn\n",
    "        move = \"\"\n",
    "        valid = False\n",
    "\n"
   ]
  },
  {
   "cell_type": "code",
   "execution_count": 0,
   "metadata": {
    "collapsed": false
   },
   "outputs": [
   ],
   "source": [
   ]
  },
  {
   "cell_type": "code",
   "execution_count": 0,
   "metadata": {
    "collapsed": false
   },
   "outputs": [
   ],
   "source": [
   ]
  },
  {
   "cell_type": "code",
   "execution_count": 0,
   "metadata": {
    "collapsed": false
   },
   "outputs": [
   ],
   "source": [
   ]
  }
 ],
 "metadata": {
  "kernelspec": {
   "display_name": "Python 3 (Ubuntu Linux)",
   "language": "python",
   "name": "python3-ubuntu",
   "resource_dir": "/usr/local/share/jupyter/kernels/python3-ubuntu"
  },
  "language_info": {
   "codemirror_mode": {
    "name": "ipython",
    "version": 3
   },
   "file_extension": ".py",
   "mimetype": "text/x-python",
   "name": "python",
   "nbconvert_exporter": "python",
   "pygments_lexer": "ipython3",
   "version": "3.8.10"
  }
 },
 "nbformat": 4,
 "nbformat_minor": 4
}