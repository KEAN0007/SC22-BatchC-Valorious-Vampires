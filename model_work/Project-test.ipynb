{
 "cells": [
  {
   "cell_type": "code",
   "execution_count": 1,
   "metadata": {
    "collapsed": false,
    "scrolled": true
   },
   "outputs": [
    {
     "name": "stdout",
     "output_type": "stream",
     "text": [
      "[{'extra_comment': 'skinned', 'name': 'salmon', 'primary_unit': {'quantity': '1', 'display': 'lb'}, 'metric_unit': {'quantity': '425', 'display': 'g'}}, {'extra_comment': '', 'name': 'olive oil', 'primary_unit': {'quantity': '1', 'display': 'tablespoon'}, 'metric_unit': None}, {'extra_comment': 'minced', 'name': 'garlic', 'primary_unit': {'quantity': '1', 'display': 'clove'}, 'metric_unit': None}, {'extra_comment': 'sliced', 'name': 'shallot', 'primary_unit': {'quantity': '½', 'display': None}, 'metric_unit': None}, {'extra_comment': 'to taste', 'name': 'fresh parsley', 'primary_unit': {'quantity': None, 'display': None}, 'metric_unit': None}, {'extra_comment': '', 'name': 'red pepper flakes', 'primary_unit': {'quantity': '½', 'display': 'teaspoon'}, 'metric_unit': None}, {'extra_comment': 'to taste', 'name': 'salt and pepper', 'primary_unit': {'quantity': None, 'display': None}, 'metric_unit': None}, {'extra_comment': 'to taste', 'name': 'nutritional yeast', 'primary_unit': {'quantity': None, 'display': None}, 'metric_unit': None}, 'salmon\\nolive oil\\ngarlic\\nshallot\\nfresh parsley\\nred pepper flakes\\nsalt and pepper\\nnutritional yeast\\n']\n"
     ]
    }
   ],
   "source": [
    "import json\n",
    "\n",
    "# Open the dataset JSON\n",
    "with open(\"dataSets/ingredient_and_instructions.json\", \"r\") as dataSet:\n",
    "    data = json.load(dataSet)\n",
    "\n",
    "recipie = \"\" # The individual recipie\n",
    "recipie_list = [] # Where we will store the recipie for training\n",
    "ingredient_list = []\n",
    "\n",
    "for meal in data:\n",
    "    # Get the recipie name and its instructions\n",
    "    meal_info = data[meal]\n",
    "    recipie += meal.replace(\"-\", \" \").title() + \"\\n\\n\"\n",
    "    recipe_instructions = meal_info[\"instructions\"]\n",
    "    ingredient_string = \"\"\n",
    "    # Get the ingredients\n",
    "    ingredients = meal_info[\"ingredient_sections\"]\n",
    "\n",
    "    for section in ingredients:\n",
    "        ingredient_list = section[\"ingredients\"]\n",
    "\n",
    "        for ingredient in ingredient_list:\n",
    "            ingredient_name = ingredient[\"name\"]\n",
    "            try:\n",
    "                ingredient_string += ingredient_name + \"\\n\"\n",
    "            except:\n",
    "                pass\n",
    "        # Construct the ingredient string\n",
    "    ingredient_list.append(ingredient_string)\n",
    "\n",
    "# For testing purposes, we can output a random recipie\n",
    "import random\n",
    "#print(recipie_list[random.randint(0, len(recipie_list) - 1)])\n",
    "print(ingredient_list)\n",
    "\n"
   ]
  },
  {
   "cell_type": "markdown",
   "metadata": {
    "collapsed": false
   },
   "source": [
   ]
  },
  {
   "cell_type": "code",
   "execution_count": 2,
   "metadata": {
    "collapsed": false
   },
   "outputs": [
   ],
   "source": [
    "#CSV File 1 Record per row\n",
    "#Record: 1 string with ingredients + recipe\n",
    "import pandas as pd\n",
    "\n",
    "\n",
    "df = pd.DataFrame(recipie_list)\n",
    "data = df.to_csv()\n"
   ]
  },
  {
   "cell_type": "code",
   "execution_count": 0,
   "metadata": {
    "collapsed": false
   },
   "outputs": [
   ],
   "source": [
   ]
  }
 ],
 "metadata": {
  "kernelspec": {
   "display_name": "Python (nlp_env)",
   "language": "python",
   "metadata": {
    "debugger": true
   },
   "name": "nlp_env",
   "resource_dir": "/projects/b9e0cba5-06d0-4604-824f-bbb5d6223324/.local/share/jupyter/kernels/nlp_env"
  },
  "language_info": {
   "codemirror_mode": {
    "name": "ipython",
    "version": 3
   },
   "file_extension": ".py",
   "mimetype": "text/x-python",
   "name": "python",
   "nbconvert_exporter": "python",
   "pygments_lexer": "ipython3",
   "version": "3.8.13"
  }
 },
 "nbformat": 4,
 "nbformat_minor": 4
}