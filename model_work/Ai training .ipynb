{
 "cells": [
  {
   "cell_type": "code",
   "execution_count": 5,
   "metadata": {
    "collapsed": false,
    "scrolled": true
   },
   "outputs": [
    {
     "name": "stderr",
     "output_type": "stream",
     "text": [
      "You are tokenizing a CSV file, but you did not set line_by_line=True. Please change if unintended.\n"
     ]
    },
    {
     "name": "stdout",
     "output_type": "stream",
     "text": [
      "\n",
      "\n",
      "\n"
     ]
    },
    {
     "data": {
      "application/vnd.jupyter.widget-view+json": {
       "model_id": "729e55b6e26b4a5fb0cb3d1d03eec67a",
       "version_major": 2,
       "version_minor": 0
      },
      "text/plain": [
       "  0%|          | 0/4962 [00:00<?, ?it/s]"
      ]
     },
     "execution_count": 5,
     "metadata": {
     },
     "output_type": "execute_result"
    },
    {
     "name": "stderr",
     "output_type": "stream",
     "text": [
      "pytorch_model.bin already exists in /trained_model and will be overwritten!\n"
     ]
    },
    {
     "name": "stderr",
     "output_type": "stream",
     "text": [
      "GPU available: False, used: False\n"
     ]
    },
    {
     "name": "stderr",
     "output_type": "stream",
     "text": [
      "TPU available: False, using: 0 TPU cores\n"
     ]
    },
    {
     "name": "stderr",
     "output_type": "stream",
     "text": [
      "IPU available: False, using: 0 IPUs\n"
     ]
    },
    {
     "name": "stderr",
     "output_type": "stream",
     "text": [
      "HPU available: False, using: 0 HPUs\n"
     ]
    },
    {
     "data": {
      "application/vnd.jupyter.widget-view+json": {
       "model_id": "06d2505ad2bc43298e718a19f9a2d662",
       "version_major": 2,
       "version_minor": 0
      },
      "text/plain": [
       "  0%|          | 0/5000 [00:00<?, ?it/s]"
      ]
     },
     "execution_count": 5,
     "metadata": {
     },
     "output_type": "execute_result"
    },
    {
     "name": "stdout",
     "output_type": "stream",
     "text": [
      "huggingface/tokenizers: The current process just got forked, after parallelism has already been used. Disabling parallelism to avoid deadlocks...\n",
      "To disable this warning, you can either:\n",
      "\t- Avoid using `tokenizers` before the fork if possible\n",
      "\t- Explicitly set the environment variable TOKENIZERS_PARALLELISM=(true | false)\n"
     ]
    },
    {
     "name": "stdout",
     "output_type": "stream",
     "text": [
      "\u001b[1m50 steps reached: generating sample texts.\u001b[0m\n",
      "==========\n",
      ", salt, larget, en,,, fresh, garlicato, olivea,®, salt,, vanilla,,, salt,i,s,a, salt, kosher, water oil sugarm, alli onion,ay k cheese,, ground, olive, garlic, c,\n",
      "==========\n"
     ]
    },
    {
     "name": "stdout",
     "output_type": "stream",
     "text": [
      "\u001b[1m100 steps reached: generating sample texts.\u001b[0m\n"
     ]
    },
    {
     "name": "stdout",
     "output_type": "stream",
     "text": [
      "==========\n",
      ", salt, dried purpose, kosher baking, garlic, garlic, brownch onion, garlic fresh pepper, kosher heavy, ground brown, all, fresh m ground, medium, mm, baking salt, red salt, kosher vanilla, salt b red, salt, c pepper, red, fresh salt, water\n",
      "==========\n"
     ]
    },
    {
     "name": "stdout",
     "output_type": "stream",
     "text": [
      "\u001b[1m150 steps reached: generating sample texts.\u001b[0m\n",
      "==========\n",
      ", fresh vanilla b salt, olive, white, olive, kosher salt, salt, whole, brown eggs fresh black pepper, salt, baking, milk, pepper, salt, vanilla vegetable lemon, salt, unsalted salt, juice, vanilla kosher fresh lemon ground d black large salt, salt, medium flour, powder,\n",
      "==========\n"
     ]
    },
    {
     "name": "stdout",
     "output_type": "stream",
     "text": [
      "\u001b[1m200 steps reached: generating sample texts.\u001b[0m\n"
     ]
    },
    {
     "name": "stdout",
     "output_type": "stream",
     "text": [
      "==========\n",
      "-, freshanct stola, black salt, fresh butter, allas m, vanilla pepper, allaleraccles, vanilla flour, bs, baking sugar, fresh salt, lemon salt, whitepcy oil, p extract, whites, flour, large\n",
      "==========\n"
     ]
    },
    {
     "name": "stdout",
     "output_type": "stream",
     "text": [
      "\u001b[1m250 steps reached: generating sample texts.\u001b[0m\n",
      "==========\n",
      "s, pepper, water, chocolate p milk, red salt, salt, salt, salt, pepper, garlic, kosher pepper, olive pepper, caeoaki oil, chocolate fresh sugar, black salt, fresh salt, red pepper, milk, pepper, salt, ays, pepper,\n",
      "==========\n"
     ]
    },
    {
     "name": "stdout",
     "output_type": "stream",
     "text": [
      "\u001b[1m300 steps reached: generating sample texts.\u001b[0m\n",
      "==========\n",
      "as, salt, bon, black sugar, salt, allas, ground salt, ground onion, salt, freshly large pepper, black onion,, kosher whole pepper, butter, black oil, large salt, fresh soda, honey, onion, water, freshly onion, red cheese, fresh chocolate, water\n",
      "==========\n"
     ]
    },
    {
     "name": "stdout",
     "output_type": "stream",
     "text": [
      "\u001b[1m350 steps reached: generating sample texts.\u001b[0m\n"
     ]
    },
    {
     "name": "stdout",
     "output_type": "stream",
     "text": [
      "==========\n",
      ", vanilla butter, water, eggs, saam, butter powder, eggg, salt, salt, roberry, salt, garlic, egg, salt, salt, garlic, vanilla butter, garlic, flour, whole oilyreyunch, mic, vanilla milk, sugar, vanilla eggs\n",
      "==========\n"
     ]
    },
    {
     "name": "stdout",
     "output_type": "stream",
     "text": [
      "\u001b[1m400 steps reached: generating sample texts.\u001b[0m\n"
     ]
    },
    {
     "name": "stdout",
     "output_type": "stream",
     "text": [
      "==========\n",
      ", lemon extract, ground sugar, vanilla ciani, baking, cuminle, garlic, salt, eggs, me, ground garlic, ground salt, fresh pepper, griinar, honey, curpose onion, soy cheese, white eggs, whole sugar, dried white juice, pepper\n",
      "==========\n"
     ]
    },
    {
     "name": "stdout",
     "output_type": "stream",
     "text": [
      "\u001b[1m450 steps reached: generating sample texts.\u001b[0m\n"
     ]
    },
    {
     "name": "stdout",
     "output_type": "stream",
     "text": [
      "==========\n",
      " oil, butter, pepper, salt, kosher, heavy unsalted sugar, black salt, creas, salt, kark cumos, fresh basil, milk, unsalted oil, black extract, red tho dough, medium salt, red salt, heavy butter, bcome, kosher flour, p\n",
      "==========\n"
     ]
    },
    {
     "name": "stdout",
     "output_type": "stream",
     "text": [
      "\u001b[1m500 steps reached: generating sample texts.\u001b[0m\n"
     ]
    },
    {
     "name": "stdout",
     "output_type": "stream",
     "text": [
      "==========\n",
      "®a, mreelllalaaooed medium oorttheircptin, garlic, water, fresh carrot, small cilantro, garlic, large pepper, selokja, balpinach, kosher ground salt, lemon, olive oil, fresh cream\n",
      "==========\n"
     ]
    },
    {
     "name": "stdout",
     "output_type": "stream",
     "text": [
      "\u001b[1m550 steps reached: generating sample texts.\u001b[0m\n"
     ]
    },
    {
     "name": "stdout",
     "output_type": "stream",
     "text": [
      "==========\n",
      " cheese, large cream, porleys, whole sugar, kosher cream, unsalted carrot, kosher sugar, ground chicken thy, kosher salt, pepper, s oil, fresh thas, ground ground butter, lemon cheese, fresh chocolate, fresh onion, black butter, sweet flour, olive cheese,\n",
      "==========\n"
     ]
    },
    {
     "name": "stdout",
     "output_type": "stream",
     "text": [
      "\u001b[1m600 steps reached: generating sample texts.\u001b[0m\n",
      "==========\n",
      ", freshatedated wreus cream, wia, bell pepper, fresh parmesan cheese, large oil, bouring, onion, salt, mock, baking salt, chicken thkana, garlic powder, golwnenoced chickentill oil, fresh parmesan pepper, fresh\n",
      "==========\n"
     ]
    },
    {
     "name": "stdout",
     "output_type": "stream",
     "text": [
      "\u001b[1m650 steps reached: generating sample texts.\u001b[0m\n"
     ]
    },
    {
     "name": "stdout",
     "output_type": "stream",
     "text": [
      "==========\n",
      "a salt, black oil, paprika, garlic, black pepper, milk, surpose oil, salt, butter, unsalted butter, cinnamon, salt, black sugar, garlicne p cheddar cheese, alls, vanilla salt, fresh breast, unsalted butter, urpose oil juice, sugar, vanilla powder, dried\n",
      "==========\n"
     ]
    },
    {
     "name": "stdout",
     "output_type": "stream",
     "text": [
      "\u001b[1m700 steps reached: generating sample texts.\u001b[0m\n"
     ]
    },
    {
     "name": "stdout",
     "output_type": "stream",
     "text": [
      "==========\n",
      "bd mustard, pry oil, egg, cream, eggs, large thy, cream, unsalted pepper, ground black oil, olive oil, creams, salt, pepper, pas, marhy, ft, salt, cualler, chickenberry, milk, mor\n",
      "==========\n"
     ]
    },
    {
     "name": "stdout",
     "output_type": "stream",
     "text": [
      "\u001b[1m750 steps reached: generating sample texts.\u001b[0m\n",
      "==========\n",
      " butter, sugar, chocolate sauce, unsalted sugar, red pepper, fresh cilantro, lemon extract, vanilla extract, spas, eggs, brown butter, salt, vanilla extract, fresh onion, all, green cheddar flour, lemon soda, sugar, murpose cream, water, dried parsley, water, eggs, salt\n",
      "==========\n"
     ]
    },
    {
     "name": "stdout",
     "output_type": "stream",
     "text": [
      "\u001b[1m800 steps reached: generating sample texts.\u001b[0m\n"
     ]
    },
    {
     "name": "stdout",
     "output_type": "stream",
     "text": [
      "==========\n",
      ", granulated salt, water, salt, red chocolateololas, tomato, garlic, granulated butter, medium mozzarella powder, chiy, kosher sugar, milk, banut butter, coconut extract, pepper, pepper, red parsley, oinach, brown butter, pepper, garlic extract, garlic, vanilla extract\n",
      "==========\n"
     ]
    },
    {
     "name": "stdout",
     "output_type": "stream",
     "text": [
      "\u001b[1m850 steps reached: generating sample texts.\u001b[0m\n"
     ]
    },
    {
     "name": "stdout",
     "output_type": "stream",
     "text": [
      "==========\n",
      ", kosher salt, cornpurpose onion, salt, kosher salt, black pepper, lemon juice, fresh onion, cornwan, medium pepper, pepper, water, whole pepper, pepper, vanilla oil, butterola, black pepper, vanilla powder, ga, vanilla juice, vegetable oil, gill\n",
      "==========\n"
     ]
    },
    {
     "name": "stdout",
     "output_type": "stream",
     "text": [
      "\u001b[1m900 steps reached: generating sample texts.\u001b[0m\n"
     ]
    },
    {
     "name": "stdout",
     "output_type": "stream",
     "text": [
      "==========\n",
      "� S, garlic extract, garlic soda, sugar, eggs, oape, water, whole ground salt, butter, egg, cornp parsley, vanilla sugar, bell pepper, allch, garlic extract, chocolate, flour, powdered butter, mabs, red zberry, tomato, large onion,\n",
      "==========\n"
     ]
    },
    {
     "name": "stdout",
     "output_type": "stream",
     "text": [
      "\u001b[1m950 steps reached: generating sample texts.\u001b[0m\n"
     ]
    },
    {
     "name": "stdout",
     "output_type": "stream",
     "text": [
      "==========\n",
      " butter, large water, milk, pepper, large onion, lemon, kosher salt, unsalted sugar, fresh cheten cookingock, salt, olive oil, garlic, water, olive oil, salt, chicken ginger, salt, garlic, garlic, onion, fresh cilantro, sugar, water, lemon cinnamon, vanilla\n",
      "==========\n"
     ]
    },
    {
     "name": "stdout",
     "output_type": "stream",
     "text": [
      "\u001b[1m1,000 steps reached: generating sample texts.\u001b[0m\n",
      "==========\n",
      " wreoliziczi, garlic, black pepper, onion flustards, salt, garlic, garlic juice, olive oil, lemon, bustard, garlic, garlic, garlic, eggs, mock, all, garlic powder, olive oil, pepper, fresh parsley, red onion, salt,\n",
      "==========\n"
     ]
    },
    {
     "name": "stdout",
     "output_type": "stream",
     "text": [
      "\u001b[1m1,050 steps reached: generating sample texts.\u001b[0m\n"
     ]
    },
    {
     "name": "stdout",
     "output_type": "stream",
     "text": [
      "==========\n",
      "les, pepper, salt, water, egg, garlic, salt, vanilla extract, large onion, green breast cheese, butter, sated yellow pepper flrazalluikaler, water, salt, tuses, green onion, lemon juice, baking extract, butter, vanilla extract, vanilla\n",
      "==========\n"
     ]
    },
    {
     "name": "stdout",
     "output_type": "stream",
     "text": [
      "\u001b[1m1,100 steps reached: generating sample texts.\u001b[0m\n",
      "==========\n",
      ", salt, salt, purpose flour, all pric, o cheese, butter, vanilla extract, butter, all salt, unsalted butter, red pepper, salt, baking powder, salt, waterlish, large eggch, red pepper, pepper, purpose flour, taro, salt,\n",
      "==========\n"
     ]
    },
    {
     "name": "stdout",
     "output_type": "stream",
     "text": [
      "\u001b[1m1,150 steps reached: generating sample texts.\u001b[0m\n"
     ]
    },
    {
     "name": "stdout",
     "output_type": "stream",
     "text": [
      "==========\n",
      " Call Sffpa salt, oest, olive oil, butter, butter, olive oil, kosher salt, fresh th cheese, all-pa, large fresh black pepper, pepper, eggs, duat, chocolate bread, fresh thi dough, red cream, bustardss\n",
      "==========\n"
     ]
    },
    {
     "name": "stdout",
     "output_type": "stream",
     "text": [
      "\u001b[1m1,200 steps reached: generating sample texts.\u001b[0m\n"
     ]
    },
    {
     "name": "stdout",
     "output_type": "stream",
     "text": [
      "==========\n",
      "diclesss, chili powder, ground black pepper, salt, lemon, paprika, fapped cream, fresh parsley, egg, lemon juice, cinnamon, salt, pepper, flour powder, pepper, honey, unsalted butter, fresh onion, garlic, kosher salt, mays, ground black pepper,\n",
      "==========\n"
     ]
    },
    {
     "name": "stdout",
     "output_type": "stream",
     "text": [
      "\u001b[1m1,250 steps reached: generating sample texts.\u001b[0m\n",
      "==========\n",
      "® ground parsley, fresh parsleyolive oil, red oil, olive oil, salt, fresh cilantro, paprika, salt, salt, green bell pepper, shredded breastsalted wustard, ground bell pepper, salt, shredded parmesan cheese, fresh parsleygonsalted butter, fresh cilantro, fresh cilantro, salt\n",
      "==========\n"
     ]
    },
    {
     "name": "stdout",
     "output_type": "stream",
     "text": [
      "\u001b[1m1,300 steps reached: generating sample texts.\u001b[0m\n",
      "==========\n",
      "tramp, olive oil, kosher salt, unsalted sugar, salt, red pepper, shredded cheddar cheese, buttery, vegetable oil, large onion, red bell pepper, ground black pepper, butter, red onions, salt, all purpose flour, fresh parsley, fresh minill, medium eggs, butter\n",
      "==========\n"
     ]
    },
    {
     "name": "stdout",
     "output_type": "stream",
     "text": [
      "\u001b[1m1,350 steps reached: generating sample texts.\u001b[0m\n"
     ]
    },
    {
     "name": "stdout",
     "output_type": "stream",
     "text": [
      "==========\n",
      " butter, red pepper, telch, milkballow gried black pepper, lemon juice, green onion, black pepper, heavy cream, garlic, kosher salt, olive oil, all purpose flour, medium yellow onion, kosher salt, kosher salt, ill pork taserchan\n",
      "==========\n"
     ]
    },
    {
     "name": "stdout",
     "output_type": "stream",
     "text": [
      "\u001b[1m1,400 steps reached: generating sample texts.\u001b[0m\n",
      "==========\n",
      ", olive extract, corike, onion, gra-starch, medium yellow bell pepper, lemon juice, gasleme, milk, salt, large eggs, ballions, medium purpose flour, garlic powder, chili powder, fresh parsley, red cayen p\n",
      "==========\n"
     ]
    },
    {
     "name": "stdout",
     "output_type": "stream",
     "text": [
      "\u001b[1m1,450 steps reached: generating sample texts.\u001b[0m\n",
      "==========\n",
      " Sino, cream, kosher salt, garlic, red onion, fresh cilantromoneless tomato, kosher salt, olive oil, whole milk, green onion, pepper, chicken breast, ground black pepper, sour creammushroom, garlic, creganennes, kosher salt, brown sugar,\n",
      "==========\n"
     ]
    },
    {
     "name": "stdout",
     "output_type": "stream",
     "text": [
      "\u001b[1m1,500 steps reached: generating sample texts.\u001b[0m\n",
      "==========\n",
      "al, milk leafcrurpose ated garlic, black pepper, garlic, ayenne chip, salt, honey, dried onion, shredded mozzarella offuless red onion, kosher salt, red onion, large chocolate chip, garlic, vanilla extract, butter, garlic, granulated sugar, large egg\n",
      "==========\n"
     ]
    },
    {
     "name": "stdout",
     "output_type": "stream",
     "text": [
      "\u001b[1m1,550 steps reached: generating sample texts.\u001b[0m\n"
     ]
    },
    {
     "name": "stdout",
     "output_type": "stream",
     "text": [
      "==========\n",
      "amho, nasted-peed fresh parsley, binhel, rain goripped cream cheese, tomato sauce, milk, kosher salt, granulated sugar, fresh breastsballow, salt, scallole Pin, fresh cilantroch, nrumpack cheese\n",
      "==========\n"
     ]
    },
    {
     "name": "stdout",
     "output_type": "stream",
     "text": [
      "\u001b[1m1,600 steps reached: generating sample texts.\u001b[0m\n"
     ]
    },
    {
     "name": "stdout",
     "output_type": "stream",
     "text": [
      "==========\n",
      " eggs, brown sugar, penne peppers, olive oil, kosher salt, shredded stock, pops, lemon, kosher salt, large egg, srimp, butter, sround beef, garlic, olive oil, garlic, unsalted butter, avocadin, lemon, cinnamon, white chocolate\n",
      "==========\n"
     ]
    },
    {
     "name": "stdout",
     "output_type": "stream",
     "text": [
      "\u001b[1m1,650 steps reached: generating sample texts.\u001b[0m\n",
      "==========\n"
     ]
    },
    {
     "name": "stdout",
     "output_type": "stream",
     "text": [
      "e, salt, large eggs, vanilla extract, brown sugar, sprinkles, granulated sugar, salt, kosher salt, tomato, salt, kosher salt, small white sugar, peanut butter, large eggs, all pipped cream cheese, butter, milk, sugar, vanilla, garlic, puffp\n",
      "==========\n"
     ]
    },
    {
     "name": "stdout",
     "output_type": "stream",
     "text": [
      "\u001b[1m1,700 steps reached: generating sample texts.\u001b[0m\n",
      "==========\n",
      "®get vanilla extract, salt, olive oil, shreddedolks, red onion, gininen, mayonijon, marecrumo, salt, jala, onion, salt, powdered sugar, purpose flour, large eggs, salt, olive oil, dark\n",
      "==========\n"
     ]
    },
    {
     "name": "stdout",
     "output_type": "stream",
     "text": [
      "\u001b[1m1,750 steps reached: generating sample texts.\u001b[0m\n",
      "==========\n",
      "® ay® mix, ground cumin, medium red pepper cheese, fresh parsley, fresh parsley, fresh parsleysed flour, lemon, fresh parsleymalt, fresh cilantromutma oil, garlic, fresh black pepper, Mrapino, dried thyme, chicken pepper, garlic,\n",
      "=========="
     ]
    },
    {
     "name": "stdout",
     "output_type": "stream",
     "text": [
      "\n"
     ]
    },
    {
     "name": "stdout",
     "output_type": "stream",
     "text": [
      "\u001b[1m1,800 steps reached: generating sample texts.\u001b[0m\n",
      "==========\n",
      "amhlower, fresh parsley, ground black pepper, salt, kosher salt, uns, large eggs, freshly ground black pepper, garlic, baby, water, dark cooking spray, red onionon mushroom, kosher salt, garlic powder, garlic, fresh parsley, whole milk, whole\n",
      "==========\n"
     ]
    },
    {
     "name": "stdout",
     "output_type": "stream",
     "text": [
      "\u001b[1m1,850 steps reached: generating sample texts.\u001b[0m\n",
      "==========\n",
      " geler, baking powder, salt, avocado, milk, salt, unsalted butter, milk, fresh minianders ellyer, salt, all-purpose flour, red bell pepper, garlic, vanilla extract, fresh thy juss, lame bow chicken st\n",
      "==========\n"
     ]
    },
    {
     "name": "stdout",
     "output_type": "stream",
     "text": [
      "\u001b[1m1,900 steps reached: generating sample texts.\u001b[0m\n",
      "==========\n",
      " food coloring curali, chocolate crumbs, salt, flour, vegetable oil, white onion, lemon juice, bacon, salt, mushroom, purpose flour, salt, salt, salt, salt, freshly ground black pepper, dried basil, fresh cilantro, whole, fresh cilantro, ground cinnamon\n",
      "==========\n"
     ]
    },
    {
     "name": "stdout",
     "output_type": "stream",
     "text": [
      "\u001b[1m1,950 steps reached: generating sample texts.\u001b[0m\n",
      "==========\n",
      ", onion, boneless, garlic paste, egg, large eggs, salt, white chili powder, garlic, fresh parsley, salt, egg, black pepper, garlic, garlic, salt, salt, pepper, salt, large eggs, pepper, pepper, garlic powder, kosher salt, fresh flow, che\n",
      "==========\n"
     ]
    },
    {
     "name": "stdout",
     "output_type": "stream",
     "text": [
      "\u001b[1m2,000 steps reached: generating sample texts.\u001b[0m\n",
      "==========\n",
      " Dlle, butter, fresh parsley, garlic powder, shi, pepper, olive oil, shallion, garlic, whole milk, onion powder, pepper, salt, egg, large eggs, shall-purpose flour, large egg, salt, honey, vanilla extract, garlic, Zer\n",
      "==========\n"
     ]
    },
    {
     "name": "stdout",
     "output_type": "stream",
     "text": [
      "\u001b[1m2,050 steps reached: generating sample texts.\u001b[0m\n"
     ]
    },
    {
     "name": "stdout",
     "output_type": "stream",
     "text": [
      "==========\n",
      ", fresh parsley, chili powder, purpose flour, onion, kosher salt, all purpose flour, salt, black pepper, brown sugar, fresh thy, ber, powdered sugar, garlic powder, fresh parsley, heavy cream cheese, black pepper, candy, black pepper, powdered sugar, kosher\n",
      "==========\n"
     ]
    },
    {
     "name": "stdout",
     "output_type": "stream",
     "text": [
      "\u001b[1m2,100 steps reached: generating sample texts.\u001b[0m\n",
      "==========\n",
      "stutwater, corn, chicken, powdered sugar, butter, all-purpose flour, large egg, unsalted butter, fresh ginger, olive oil, unsalted butter, unsalted butter, cinnamon, large eggs, chocolate, large eggs, all-redded mozzarella cheese, granulated sugar, powdered sugar, freshly ground cumin\n",
      "==========\n"
     ]
    },
    {
     "name": "stdout",
     "output_type": "stream",
     "text": [
      "\u001b[1m2,150 steps reached: generating sample texts.\u001b[0m\n",
      "==========\n",
      " cake sugar, salt, kosher salt, whole-lled mapena, pils, boneless, salt, granulated sugar, vanilla extract, sugar, butter, unsalted butter, kosher salt, white sugar, sugar, unsalted butter, salt, unsalted butter, strawberry, butter,\n",
      "==========\n"
     ]
    },
    {
     "name": "stdout",
     "output_type": "stream",
     "text": [
      "\u001b[1m2,200 steps reached: generating sample texts.\u001b[0m\n",
      "==========\n",
      "atass, garlic, fresh parsley, chicken breast, pepper, brown onion, fresh romarazonkoice, fresh parsleys, sour cream cheese, cas, kosher salt, corn, garlic, brown sugar, garlic, fresh parsleyuns, whole sugar, onion, vegetable\n",
      "==========\n"
     ]
    },
    {
     "name": "stdout",
     "output_type": "stream",
     "text": [
      "\u001b[1m2,250 steps reached: generating sample texts.\u001b[0m\n",
      "==========\n"
     ]
    },
    {
     "name": "stdout",
     "output_type": "stream",
     "text": [
      "al, olive oil, freshly ground black pepper, salt, pepper, salt, fresh ginger, mustard, fresh parsley, fresh ginger, black pepper, corn, dried oregan water, egg, onion powder, oil, salt, pepper, lemon juice, onion, salt, mushroom, paprika, water\n",
      "==========\n"
     ]
    },
    {
     "name": "stdout",
     "output_type": "stream",
     "text": [
      "\u001b[1m2,300 steps reached: generating sample texts.\u001b[0m\n",
      "==========\n",
      ", kosher salt, fresh cilantro, fresh parsley, fresh parsley, frest, dried basil, water, fresh parsleyallions, chicken breastfo, fresh parsley, pepper, fresh parsley, onion, scon mustard, dried parsley, las, salt, pepper, fresh cilantro, garlic,\n",
      "==========\n"
     ]
    },
    {
     "name": "stdout",
     "output_type": "stream",
     "text": [
      "\u001b[1m2,350 steps reached: generating sample texts.\u001b[0m\n",
      "==========\n",
      "am, strawberry, chi, sugar, milk, egg, salt, fresh chije leafloa, honey, peppers, milk, salt, whole milk, butter, shredded mozzarella cheese, large eggs, ground black pepper, large eggs, fresh rotglant es"
     ]
    },
    {
     "name": "stdout",
     "output_type": "stream",
     "text": [
      "\n",
      "==========\n"
     ]
    },
    {
     "name": "stdout",
     "output_type": "stream",
     "text": [
      "\u001b[1m2,400 steps reached: generating sample texts.\u001b[0m\n"
     ]
    },
    {
     "name": "stdout",
     "output_type": "stream",
     "text": [
      "==========\n",
      ", large eggs, yellow onion, garlic, kosher salt, unsalted butter, fresh cho, small red onions, garlic, shredded red onion, dried thy, ground cumin, shredded cheddar cheese, fresh oreganopples, butter, green onion, maspurpose flour, salt,\n",
      "==========\n"
     ]
    },
    {
     "name": "stdout",
     "output_type": "stream",
     "text": [
      "\u001b[1m2,450 steps reached: generating sample texts.\u001b[0m\n"
     ]
    },
    {
     "name": "stdout",
     "output_type": "stream",
     "text": [
      "==========\n",
      " purpose flour, kosher salt, large eggs, heavy cream cheese, vegetable oil, unsalted butter, cream cheese, baking soda, whole piank, cinnamon, sugar, flour, vanilla extract, all-puff pastahameltiannuts, purpose flour, kosher salt\n",
      "==========\n"
     ]
    },
    {
     "name": "stdout",
     "output_type": "stream",
     "text": [
      "\u001b[1m2,500 steps reached: generating sample texts.\u001b[0m\n",
      "==========\n",
      " pen, salt, flour, cream cheese, cery, salt, cayondo, pepper, salt, cery crushed, water, fresh basil leaves, shredded mozzarella cheese, coconut oil, ground beef, flour, fresh thighs, fresh basilg, fresh\n",
      "==========\n"
     ]
    },
    {
     "name": "stdout",
     "output_type": "stream",
     "text": [
      "\u001b[1m2,550 steps reached: generating sample texts.\u001b[0m\n"
     ]
    },
    {
     "name": "stdout",
     "output_type": "stream",
     "text": [
      "==========\n",
      "ing Borentani-milk, lemon juice, chocolate chips, cest, fresh thyme, bayeno, pine, large eggs, red bell pepper, vanilla extract, all purpose flour, kosher salt, Zest, unsalted butter, bayennemeg\n",
      "==========\n"
     ]
    },
    {
     "name": "stdout",
     "output_type": "stream",
     "text": [
      "\u001b[1m2,600 steps reached: generating sample texts.\u001b[0m\n"
     ]
    },
    {
     "name": "stdout",
     "output_type": "stream",
     "text": [
      "==========\n",
      "®hirg Smedium eggs, garlic soda, salt, garlic, garlic, shredded mozzarella cheese, fresh lemon juice, pepper fla salt, pepper, pepper, garlics, pepper flakes, pepper, salt, grated parmesan cheese, sour cream, pepper, pepper, shredded mozzarella cheese,\n",
      "==========\n"
     ]
    },
    {
     "name": "stdout",
     "output_type": "stream",
     "text": [
      "\u001b[1m2,650 steps reached: generating sample texts.\u001b[0m\n"
     ]
    },
    {
     "name": "stdout",
     "output_type": "stream",
     "text": [
      "==========\n",
      "s, egg, lemon juice, salt, lemonola oil, small white vinegar, fresh parsley, salt, large yellow onion, garlic, garlic, freshly ground cloves, sugar, fresh ginger, butter, peas, fresh basil leaflarge butter, dried thy torry, geler\n",
      "==========\n"
     ]
    },
    {
     "name": "stdout",
     "output_type": "stream",
     "text": [
      "\u001b[1m2,700 steps reached: generating sample texts.\u001b[0m\n",
      "==========\n",
      " mekin powder, fresh ginger, dried orange, freshly ground black pepper, chili powder, fresh thy, arry tomato, cayenne pepper, fresh miniumne pepper, water, fresh sage, medium red wine, kosher salt, black pepper, fresh basil,\n",
      "==========\n"
     ]
    },
    {
     "name": "stdout",
     "output_type": "stream",
     "text": [
      "\u001b[1m2,750 steps reached: generating sample texts.\u001b[0m\n",
      "==========\n",
      "sweetened chocolate, heavy cream, egg, strawberry, pupped chocolate, cinnamon, sugar, water, water, all purpose flour, lemon juice, powdered sugar, salt, water, salt, sugar, cinnamon, heavy cream, large eggs, cinnamon foodbread, all-purpose flour\n",
      "==========\n"
     ]
    },
    {
     "name": "stdout",
     "output_type": "stream",
     "text": [
      "\u001b[1m2,800 steps reached: generating sample texts.\u001b[0m\n",
      "==========\n"
     ]
    },
    {
     "name": "stdout",
     "output_type": "stream",
     "text": [
      ", black bell pepper, garlic powder, salt, fresh parsleyin, pivesallot, mushroom seedsed oil, lemon juice, pepper, pepper, fresh chijonme, mozzarella cheese, chicken, green pepper, bayont yogurt, freshly ground black pepper, chicken bro\n",
      "==========\n"
     ]
    },
    {
     "name": "stdout",
     "output_type": "stream",
     "text": [
      "\u001b[1m2,850 steps reached: generating sample texts.\u001b[0m\n"
     ]
    },
    {
     "name": "stdout",
     "output_type": "stream",
     "text": [
      "==========\n",
      "sed oat maple, salt, garlic, sugar, pepper, paprika, lemon juice, garlic, garlic powder, dark brown, shoripped cream, butter, oil, rainblarge potatoes, olive oil, bacon, butter, unsalted butter, white wori,\n",
      "==========\n"
     ]
    },
    {
     "name": "stdout",
     "output_type": "stream",
     "text": [
      "\u001b[1m2,900 steps reached: generating sample texts.\u001b[0m\n",
      "==========\n",
      "wh cookies, milk, unsalted butter, unsalted butter, unsalted butter, unsalted butter, dark cocoa sauce, kosher salt, large eggs, baking powder, heavy cream, granulated sugar, baking powder, baking powder, vanilla extract, baking soda, large egg, powdered sugar, baking powder, whole\n",
      "==========\n"
     ]
    },
    {
     "name": "stdout",
     "output_type": "stream",
     "text": [
      "\u001b[1m2,950 steps reached: generating sample texts.\u001b[0m\n",
      "==========\n",
      " water, canola oil, fresh bacon, salt, salt, garlic, cashets, red mushroom, garlic, ginger, peppereggtra virginless chicken thighs, fresh saackers, green bell pepper, red pepper, salt, salt, vegetable\n",
      "==========\n"
     ]
    },
    {
     "name": "stdout",
     "output_type": "stream",
     "text": [
      "\u001b[1m3,000 steps reached: generating sample texts.\u001b[0m\n",
      "==========\n",
      " Ndich Ora, kosher salt, unsalted butter, unsalted butter, fresh oreple Brimp, me, smokei, kosher salt, ground nutrry Brano® Ched Bacon, fresh cilantro, baise, cayenne\n",
      "==========\n"
     ]
    },
    {
     "name": "stdout",
     "output_type": "stream",
     "text": [
      "\u001b[1m3,050 steps reached: generating sample texts.\u001b[0m\n"
     ]
    },
    {
     "name": "stdout",
     "output_type": "stream",
     "text": [
      "==========\n",
      ", red pepper, whole black pepper, fresh parsley, kosher salt, red onion, freshly ground black pepper, fresh parsley, freshly ground black pepper, unsalted butter, vegetable oil, freshly ground beef, dark brown sugar, fresh cilantro, shredded cheddar cheese, olive oil, fresh basil, medium yellow onion, olive\n",
      "==========\n"
     ]
    },
    {
     "name": "stdout",
     "output_type": "stream",
     "text": [
      "\u001b[1m3,100 steps reached: generating sample texts.\u001b[0m\n",
      "==========\n"
     ]
    },
    {
     "name": "stdout",
     "output_type": "stream",
     "text": [
      ", fresh basil leaflan go, salt, fresh basil, lime, fresh thighs, olive oil, ground black pepper, fresh calayenne, large eggs, extra virginery, fresh rotra virgin olive oil, salt, garlic\n",
      "==========\n"
     ]
    },
    {
     "name": "stdout",
     "output_type": "stream",
     "text": [
      "\u001b[1m3,150 steps reached: generating sample texts.\u001b[0m\n"
     ]
    },
    {
     "name": "stdout",
     "output_type": "stream",
     "text": [
      "==========\n",
      ", kosher salt, fresh cilantro, fresh parsley, garlic, garlic, chili, chicken broth, carrot, pepper, pepper, salt, honey, oil, garlic, fresh thyme, garlic, fresh cilantro, pepper, garlic, sesame, fresh mini, pepper, fresh cilantro, ground black pepper,\n",
      "==========\n"
     ]
    },
    {
     "name": "stdout",
     "output_type": "stream",
     "text": [
      "\u001b[1m3,200 steps reached: generating sample texts.\u001b[0m\n"
     ]
    },
    {
     "name": "stdout",
     "output_type": "stream",
     "text": [
      "==========\n",
      ", garlic powder, fresh parsley, garlic powder, fresh cilantrorugauce, garlic powder, sweet potatoes, shredded roruchicken breastswott steak, garlic, pepper, red bell pepper, red bell pepper, salt, sesame oil, vegetable oil, sesame oil, pepper, fresh\n",
      "==========\n"
     ]
    },
    {
     "name": "stdout",
     "output_type": "stream",
     "text": [
      "\u001b[1m3,250 steps reached: generating sample texts.\u001b[0m\n",
      "==========\n",
      ", fisonta, cy, onion, sunsalted butter, paprika, olive oil, white wal, red onion, bacon, freshly ground black pepper, garlic, white mushroom, tomato, sushaa sauce, canolapple, fresh basil leafl\n",
      "==========\n"
     ]
    },
    {
     "name": "stdout",
     "output_type": "stream",
     "text": [
      "\u001b[1m3,300 steps reached: generating sample texts.\u001b[0m\n",
      "==========\n",
      "e Sshmaulamatwhambutter, green bell pepper, fresh thymegininiponuts, avocado, grated parmesan cheese, ground cumin, onion, pepper, fresh thymeg, olive oil, fresh thyme, pepper,\n",
      "==========\n"
     ]
    },
    {
     "name": "stdout",
     "output_type": "stream",
     "text": [
      "\u001b[1m3,350 steps reached: generating sample texts.\u001b[0m\n",
      "==========\n",
      ", large eggs, pepper, kosher salt, graps, bal, black pepper, garlic, shredded mozzarella cheese, gel, freshly ground black pepper, arugulam, black pepper, kosher salt, garlic, tartary, vegetable oil, kosher salt, freshly ground black pepper,\n",
      "==========\n"
     ]
    },
    {
     "name": "stdout",
     "output_type": "stream",
     "text": [
      "\u001b[1m3,400 steps reached: generating sample texts.\u001b[0m\n",
      "==========\n",
      ", celatwaves, sugar, presery Sins, raspberry, eggs, Moli, cream, fresh cilantromo, nonstick cooking spray, chocolate, large eggs, cocoa powder, pipped cream, salt, whole milk, pes\n",
      "==========\n"
     ]
    },
    {
     "name": "stdout",
     "output_type": "stream",
     "text": [
      "\u001b[1m3,450 steps reached: generating sample texts.\u001b[0m\n"
     ]
    },
    {
     "name": "stdout",
     "output_type": "stream",
     "text": [
      "==========\n",
      ", butter, brown sugar, vanilla extract, vanilla extract, cinnamon, ground salt, heavy cream, coconut milk, chocolate chips, vanilla extract, vanilla, baking powder, vanilla extract, eggs, vanilla extract, cocoa powder, chocolate sandwham crusts, salt, milk chocolate, d\n",
      "==========\n"
     ]
    },
    {
     "name": "stdout",
     "output_type": "stream",
     "text": [
      "\u001b[1m3,500 steps reached: generating sample texts.\u001b[0m\n",
      "==========\n",
      "-, vanilla extract, brown sugar, whole milk, orecheggs, sugar, shredded sprozen purpose flour, brown sugar, fresh parsley, cinnamon, cocoa powder, eggs, unsalted butter, sugar, cream cheese, milk, bacon, water, cream cheese, d\n",
      "==========\n"
     ]
    },
    {
     "name": "stdout",
     "output_type": "stream",
     "text": [
      "\u001b[1m3,550 steps reached: generating sample texts.\u001b[0m\n",
      "==========\n",
      " ess, large eggs, kosher salt, vanilla extract, large eggpice, yellow onion, cinnamon, large egg yolry, powdered sugar, whole milk, ground cloves, baking soda, kosher salt, vanilla extract, ground black pepper, ground ginger, water, large eggs, all-pice\n",
      "==========\n"
     ]
    },
    {
     "name": "stdout",
     "output_type": "stream",
     "text": [
      "\u001b[1m3,600 steps reached: generating sample texts.\u001b[0m\n",
      "==========\n",
      ", lemon, tomato, garlic powder, scallions, paprika, carrot, peppers, garlic powder, cayenne pepper, cayenne pepper, lemon juice, dried basil, cayenne pepper, medium white onion, fresh romaryme, red onion, bone\n",
      "==========\n"
     ]
    },
    {
     "name": "stdout",
     "output_type": "stream",
     "text": [
      "\u001b[1m3,650 steps reached: generating sample texts.\u001b[0m\n"
     ]
    },
    {
     "name": "stdout",
     "output_type": "stream",
     "text": [
      "==========\n",
      " ground black pepper, chicken breast, water, bayenne pepper, medium yellow onion, garlic, garlic, red onion powder, coriandery bean, chicken breast, salt, garlic, garlic, corizza, garlic, swhary, bacon, pepper,\n",
      "==========\n"
     ]
    },
    {
     "name": "stdout",
     "output_type": "stream",
     "text": [
      "\u001b[1m3,700 steps reached: generating sample texts.\u001b[0m\n",
      "==========\n",
      ", sugar, chocolate chips, light brown sugar, vanilla extract, granulated sugar, cinnamon, cinnamon, marshmallow cream, granulated sugar, nutmeg, powdered sugar, vanilla ice cream, unsalted butter, kosher salt, unsalted butter, unsalted butter, baking soda, milk, large eggs, lemon\n",
      "==========\n"
     ]
    },
    {
     "name": "stdout",
     "output_type": "stream",
     "text": [
      "\u001b[1m3,750 steps reached: generating sample texts.\u001b[0m\n"
     ]
    },
    {
     "name": "stdout",
     "output_type": "stream",
     "text": [
      "==========\n",
      " Seasoningfat, dark brown sugar, sugar, large eggs, unsalted butter, baking powder, ground cinnamon, all-f, gwhole, all-fcan spice, heavy cream, baking powder, granulated sugar, unsalted butter, powdered sugar, boneless dark chocolate\n",
      "==========\n"
     ]
    },
    {
     "name": "stdout",
     "output_type": "stream",
     "text": [
      "\u001b[1m3,800 steps reached: generating sample texts.\u001b[0m\n"
     ]
    },
    {
     "name": "stdout",
     "output_type": "stream",
     "text": [
      "==========\n",
      ", ground cardamomealiander, puy jack seeds, mealaple cardamoms, ber vinegar, kets, vanilla, salt, water, butter, salt, fresh strawberry, cinnamon, pine, water, water, g\n",
      "==========\n"
     ]
    },
    {
     "name": "stdout",
     "output_type": "stream",
     "text": [
      "\u001b[1m3,850 steps reached: generating sample texts.\u001b[0m\n"
     ]
    },
    {
     "name": "stdout",
     "output_type": "stream",
     "text": [
      "==========\n",
      "edge, kosher salt, kosher salt, kosher salt, ground black pepper, olive oil, soy sauce, fresh celer, kosher salt, kosher salt, olive oil, quatsemaraise, fresh parsley, green mushroom, salt, fresh thy, sated parmesan cheese,\n",
      "==========\n"
     ]
    },
    {
     "name": "stdout",
     "output_type": "stream",
     "text": [
      "\u001b[1m3,900 steps reached: generating sample texts.\u001b[0m\n"
     ]
    },
    {
     "name": "stdout",
     "output_type": "stream",
     "text": [
      "==========\n",
      " Butueberry, lime, fresh parsley, sugar, red pepper, olive oil, lime, pepper, garlic, lime juice, pepper, salt, sugar, garlic, onion, fresh cilantro, garlic, spinach, chicken broth, red onion, garlic, honeyeal, pepper, honey, chicken\n",
      "==========\n"
     ]
    },
    {
     "name": "stdout",
     "output_type": "stream",
     "text": [
      "\u001b[1m3,950 steps reached: generating sample texts.\u001b[0m\n"
     ]
    },
    {
     "name": "stdout",
     "output_type": "stream",
     "text": [
      "==========\n",
      " Sinives, unsalted buttermilk, egg, kosher salt, baking powder, blueberry, unsalted butter, baking powder, sea powder, kosher salt, butter, cannonstick cooking spray, powdered sugar, cocoa oil, las, powdered sugar, pea cheese, ground black\n",
      "==========\n"
     ]
    },
    {
     "name": "stdout",
     "output_type": "stream",
     "text": [
      "\u001b[1m4,000 steps reached: generating sample texts.\u001b[0m\n"
     ]
    },
    {
     "name": "stdout",
     "output_type": "stream",
     "text": [
      "==========\n",
      ", fresh parsley, garlic, garlic, fresh thyazo, parmesan cheese, ta, ground cay leaf, salt, garlic, chicken, honey, fresh basil, fresh parsley, salt, fresh thy spinach, salt, tomato powder, salt, butter, kosher salt, fresh sp\n",
      "==========\n"
     ]
    },
    {
     "name": "stdout",
     "output_type": "stream",
     "text": [
      "\u001b[1m4,050 steps reached: generating sample texts.\u001b[0m\n"
     ]
    },
    {
     "name": "stdout",
     "output_type": "stream",
     "text": [
      "==========\n",
      ", fillet, olive oil, onion, parmesan cheese, parmesan cheese, fresh ginger, salt, lemon juice, salt, garlic, pineailtuce, salt, sugar, garlic, salt, green onion, salt, salt, fresh parsley, salt, chicken broth, paprika, fresh basil,\n",
      "==========\n"
     ]
    },
    {
     "name": "stdout",
     "output_type": "stream",
     "text": [
      "\u001b[1m4,100 steps reached: generating sample texts.\u001b[0m\n",
      "==========\n",
      " chick® Shes, olive oil, egg, Nreatsalted butter, cream, unsalted butter, large egg, garlic powder, salt, olive oil, salt, shrimp, orange, white wine, black pepper, cornmegoniwater, garlic, garlic powder\n",
      "==========\n"
     ]
    },
    {
     "name": "stdout",
     "output_type": "stream",
     "text": [
      "\u001b[1m4,150 steps reached: generating sample texts.\u001b[0m\n"
     ]
    },
    {
     "name": "stdout",
     "output_type": "stream",
     "text": [
      "==========\n",
      ", vanilla extract, Kropi, milk, chocolate, whipped cream, chocolate, cornstarple pie sprinkles, sugar, de, strawberry, sugar, vanilla, vanilla ice cream, cinnamon, chocolate sandwater, cinnamon, blueberry, lemon juice\n",
      "==========\n"
     ]
    },
    {
     "name": "stdout",
     "output_type": "stream",
     "text": [
      "\u001b[1m4,200 steps reached: generating sample texts.\u001b[0m\n",
      "==========\n",
      ", lemon juice and pepper, pepperono, shallott, green gorizzaulder, salt, fresh cabyme, dried basilchicken breast, pepper, salt, garlic, salt, chucicoti pastry tomatoes, water, olive oil, lemon juice,\n",
      "==========\n"
     ]
    },
    {
     "name": "stdout",
     "output_type": "stream",
     "text": [
      "\u001b[1m4,250 steps reached: generating sample texts.\u001b[0m\n",
      "==========\n",
      " ws, olive oil, plain Gried onion, paprika, fresh thyme, all purpose flour, salt, fresh dian sage, fresh ginger, water, lemon juice, cream, candy, garlic, red bell pepper, ra viron mustard, dill\n",
      "==========\n"
     ]
    },
    {
     "name": "stdout",
     "output_type": "stream",
     "text": [
      "\u001b[1m4,300 steps reached: generating sample texts.\u001b[0m\n"
     ]
    },
    {
     "name": "stdout",
     "output_type": "stream",
     "text": [
      "==========\n",
      " woodle cely, fresh parsley, ground cumin, kosher salt, ground black pepper, ground black pepper, vegetable oil, fresh parsley, black pepper, black pepper, garlic, fresh parsleys, paprika, garlic, fresh parsley, green lea salt, ground black pepper, black pepper, garlic, black\n",
      "==========\n"
     ]
    },
    {
     "name": "stdout",
     "output_type": "stream",
     "text": [
      "\u001b[1m4,350 steps reached: generating sample texts.\u001b[0m\n"
     ]
    },
    {
     "name": "stdout",
     "output_type": "stream",
     "text": [
      "==========\n",
      "-spresso, orange food coloring, salt, butter, sugar, cinnamon, sugar, brown sugar, whipped cream, chocolate ha powder, strawberry, strawberries, brown sugar, large eggs, kosher salt, sugar, salt, sugar, vanilla extract, powdered sugar,\n",
      "==========\n"
     ]
    },
    {
     "name": "stdout",
     "output_type": "stream",
     "text": [
      "\u001b[1m4,400 steps reached: generating sample texts.\u001b[0m\n",
      "==========\n",
      ", bunrozens, oats, olive oil, lemon juice, salt, salt, ques, canola oil, salt, salt, meggs, salt, egg, fresh lemon juice, water, salt, salt, salt, water, water, large egg,\n",
      "==========\n"
     ]
    },
    {
     "name": "stdout",
     "output_type": "stream",
     "text": [
      "\u001b[1m4,450 steps reached: generating sample texts.\u001b[0m\n"
     ]
    },
    {
     "name": "stdout",
     "output_type": "stream",
     "text": [
      "==========\n",
      "ed milk, garlic, garlic powder, shredded maple, garlic, garlic, onion powder, pepper, medium carrot, butter, garlic, medium onion, maple syrup, dried oregano-fuat flour, garlic, green bell pepper, chicken, salt, dried oregano\n",
      "==========\n"
     ]
    },
    {
     "name": "stdout",
     "output_type": "stream",
     "text": [
      "\u001b[1m4,500 steps reached: generating sample texts.\u001b[0m\n",
      "==========\n"
     ]
    },
    {
     "name": "stdout",
     "output_type": "stream",
     "text": [
      "s, unsalted butter, egg, sugar, salt, egg yolksg, pepperfloweryellow bread crumbs, whole, baking powder, sugar, white rice, quinchocolate chips, salt, vanilla extract, lemon juice, butter, strawberries, cinnamon, sugar, whole\n",
      "==========\n"
     ]
    },
    {
     "name": "stdout",
     "output_type": "stream",
     "text": [
      "\u001b[1m4,550 steps reached: generating sample texts.\u001b[0m\n"
     ]
    },
    {
     "name": "stdout",
     "output_type": "stream",
     "text": [
      "==========\n",
      ", whole milk, kosher salt, vegetable oil, milk, freshly ground black peppercucumberries, oil, water, vegetable broth, fresh parsley, white sugar, kosher salt, fresh basil juice, spaghetaloiniangroundattta tomatoes, large egg,\n",
      "==========\n"
     ]
    },
    {
     "name": "stdout",
     "output_type": "stream",
     "text": [
      "\u001b[1m4,600 steps reached: generating sample texts.\u001b[0m\n",
      "==========\n",
      " rainplarge strawberry, unsalted butter, heavy cream, chocolate, powdered sugar, salt, sugar, chocolate chips, powdered sugar, baking powder, vanilla extract, brown sugar, vanilla extract, powdered sugar, powdered sugar, unsalted butter, chocolate chips, heavy cream, unsalted butter, dipped cream\n",
      "==========\n"
     ]
    },
    {
     "name": "stdout",
     "output_type": "stream",
     "text": [
      "\u001b[1m4,650 steps reached: generating sample texts.\u001b[0m\n"
     ]
    },
    {
     "name": "stdout",
     "output_type": "stream",
     "text": [
      "==========\n",
      " cups, water, kosher salt, fresh cilantro, ground cumin, garlic, garlic, fresh cilantro, pepper, chicken broth, salt, dried oregano, pepper, freshly ground beef, ground black pepper, freshly ground cumin, garlic powder, fresh cilantros, grain chicken broth, chicken breast\n",
      "==========\n"
     ]
    },
    {
     "name": "stdout",
     "output_type": "stream",
     "text": [
      "\u001b[1m4,700 steps reached: generating sample texts.\u001b[0m\n",
      "==========\n",
      ", cocoa powder, white rice, cinnamon, vanilla, granulated sugar, strawberry, rasplaspberry, bananry, peanut butter, sugar, baking powder, sugar, powdered sugar, eggs, unsalted butter, granulated sugar, large eggs, baking powder, granulated sugar, vanilla extract\n",
      "=========="
     ]
    },
    {
     "name": "stdout",
     "output_type": "stream",
     "text": [
      "\n"
     ]
    },
    {
     "name": "stdout",
     "output_type": "stream",
     "text": [
      "\u001b[1m4,750 steps reached: generating sample texts.\u001b[0m\n"
     ]
    },
    {
     "name": "stdout",
     "output_type": "stream",
     "text": [
      "==========\n",
      ", grank yogurt, chocolate chip, chocolate, whipped cream, cornstarch, vanilla extract, sprinkle, cream cheese, water, chocolate spread, chocolate chip, large egg whipped cream, nonstick cooking spray, vanilla extract, salt, whipped cream cheese,\n",
      "==========\n"
     ]
    },
    {
     "name": "stdout",
     "output_type": "stream",
     "text": [
      "\u001b[1m4,800 steps reached: generating sample texts.\u001b[0m\n",
      "==========\n",
      ", salt, fresh parsley, paprika, paprika, garlic, pepper, pepper, pepper, salt, sour cream, salt, pepper, paprika, white wine vinegar, garlic powder, fresh parsley, oil, salt, garlic, red pepper, cabbuff, pepper, tomato, piter vinegar\n",
      "==========\n"
     ]
    },
    {
     "name": "stdout",
     "output_type": "stream",
     "text": [
      "\u001b[1m4,850 steps reached: generating sample texts.\u001b[0m\n",
      "==========\n",
      "-s, ground black pepper, fresh parsley, fuetchinianoliangough bread, fresh thighs, medium white onion, kosher salt, shredded cheddar cheese, boneless, olive oil, kosher salt, garlic, shreddedaraghet, black pepper, unsalted\n",
      "==========\n"
     ]
    },
    {
     "name": "stdout",
     "output_type": "stream",
     "text": [
      "\u001b[1m4,900 steps reached: generating sample texts.\u001b[0m\n",
      "==========\n"
     ]
    },
    {
     "name": "stdout",
     "output_type": "stream",
     "text": [
      ", heavy cream, cornstarch, dijonnonstick cooking spray, milk, kosher salt, dure cookies, unsalted butter, McCormick® vanilla extract, large eggs, unsalted butter, baking powder, cream cheese, all purpose flour, vanilla extract, granulated sugar,\n",
      "==========\n"
     ]
    },
    {
     "name": "stdout",
     "output_type": "stream",
     "text": [
      "\u001b[1m4,950 steps reached: generating sample texts.\u001b[0m\n",
      "==========\n",
      ", green onion, grated parmesan cheese, chili sauce, butter, green bell pepper, olive oil, toni, flour, salt, grated parmesan cheese, fresh basil, garlic, dried oregano, red onion, grated parmesan cheese, black pepper, salt, cucumbery\n",
      "==========\n"
     ]
    },
    {
     "name": "stdout",
     "output_type": "stream",
     "text": [
      "\u001b[1m5,000 steps reached: saving model to /trained_model\u001b[0m\n",
      "\u001b[1m5,000 steps reached: generating sample texts.\u001b[0m\n"
     ]
    },
    {
     "name": "stdout",
     "output_type": "stream",
     "text": [
      "==========\n",
      "warm sugar, chocolate, whole milk, powdered sugar, baking soda, vegetable oil, kosher salt, egg, granulated sugar, unsalted butter, heavy cream, sweet potato, vanilla extract, granulated sugar, kosher salt, creamlantsapple syrup, vanilla extractchocolate chips, unsalted butter, vanilla\n",
      "==========\n"
     ]
    },
    {
     "name": "stdout",
     "output_type": "stream",
     "text": [
      "\u001b[1msteak\u001b[0m, lemon juice, powdered sugar, salt, heavy cream, cocoa powder, kosher salt, butter, semi-plarge eggs, garlic powder, whole milk, kosher salt, me steak, all purpose flour, vanilla extract, kosher salt, milk, cream, M\n"
     ]
    }
   ],
   "source": [
    "\n",
    "\n",
    "\n",
    "\n",
    "\n",
    "\n",
    "\n",
    "\n",
    "\n",
    "\n",
    "\n",
    "\n",
    "\n",
    "\n",
    "\n",
    "\n",
    "\n",
    "\n",
    "\n",
    "\n",
    "\n",
    "\n",
    "\n",
    "\n",
    "\n",
    "\n",
    "\n",
    "\n",
    "\n",
    "\n",
    "\n",
    "\n",
    "\n",
    "from aitextgen.TokenDataset import TokenDataset\n",
    "from aitextgen.tokenizers import train_tokenizer\n",
    "from aitextgen.utils import GPT2ConfigCPU\n",
    "from aitextgen import aitextgen\n",
    "\n",
    "file_name = \"recipe_GPT3.csv\"\n",
    "\n",
    "train_tokenizer(file_name)\n",
    "tokenizer_file = \"aitextgen.tokenizer.json\"\n",
    "config = GPT2ConfigCPU()\n",
    "ai = aitextgen(tokenizer_file=tokenizer_file, config=config)\n",
    "data = TokenDataset(file_name, tokenizer_file=tokenizer_file, block_size=64)\n",
    "ai.train(data, batch_size=1, num_steps=5000, generate_every=50, save_every=5000)\n",
    "ai.generate(prompt = \"steak\")\n",
    "\n"
   ]
  },
  {
   "cell_type": "code",
   "execution_count": 0,
   "metadata": {
    "collapsed": false
   },
   "outputs": [
   ],
   "source": [
   ]
  }
 ],
 "metadata": {
  "kernelspec": {
   "display_name": "Python (nlp_env)",
   "language": "python",
   "metadata": {
    "debugger": true
   },
   "name": "nlp_env",
   "resource_dir": "/projects/b9e0cba5-06d0-4604-824f-bbb5d6223324/.local/share/jupyter/kernels/nlp_env"
  },
  "language_info": {
   "codemirror_mode": {
    "name": "ipython",
    "version": 3
   },
   "file_extension": ".py",
   "mimetype": "text/x-python",
   "name": "python",
   "nbconvert_exporter": "python",
   "pygments_lexer": "ipython3",
   "version": "3.8.13"
  }
 },
 "nbformat": 4,
 "nbformat_minor": 4
}