{
 "cells": [
  {
   "cell_type": "code",
   "execution_count": 4,
   "metadata": {
    "collapsed": false
   },
   "outputs": [
    {
     "name": "stdout",
     "output_type": "stream",
     "text": [
      "\u001b[31mERROR: Could not install packages due to an OSError: [Errno 13] Permission denied: '/usr/local/sage/local/var/lib/sage/venv-python3.8/lib/python3.8/site-packages/tokenizers.libs'\r\n",
      "Check the permissions.\r\n",
      "\u001b[0m\r\n",
      "\u001b[33mWARNING: You are using pip version 21.3.1; however, version 22.2 is available.\r\n",
      "You should consider upgrading via the '/usr/local/sage/local/var/lib/sage/venv-python3.8/bin/python3 -m pip install --upgrade pip' command.\u001b[0m\r\n"
     ]
    },
    {
     "name": "stdout",
     "output_type": "stream",
     "text": [
      "/usr/bin/sh: nvidia-smi: command not found\r\n"
     ]
    }
   ],
   "source": [
    "!pip install -q aitextgen\n",
    "\n",
    "import logging\n",
    "logging.basicConfig(\n",
    "        format=\"%(asctime)s — %(levelname)s — %(name)s — %(message)s\",\n",
    "        datefmt=\"%m/%d/%Y %H:%M:%S\",\n",
    "        level=logging.INFO\n",
    "    )\n",
    "\n",
    "#from testing import aitextgen\n",
    "!nvidia-smi\n",
    "#ai = aitextgen(tf_gpt2=\"124M\", to_gpu=True)\n"
   ]
  },
  {
   "cell_type": "code",
   "execution_count": 0,
   "metadata": {
    "collapsed": false
   },
   "outputs": [
   ],
   "source": [
   ]
  }
 ],
 "metadata": {
  "kernelspec": {
   "display_name": "Python 3 (SageMath)",
   "language": "python",
   "name": "python3-sage",
   "resource_dir": "/usr/local/share/jupyter/kernels/python3-sage"
  },
  "language_info": {
   "codemirror_mode": {
    "name": "ipython",
    "version": 3
   },
   "file_extension": ".py",
   "mimetype": "text/x-python",
   "name": "python",
   "nbconvert_exporter": "python",
   "pygments_lexer": "ipython3",
   "version": "3.8.10"
  }
 },
 "nbformat": 4,
 "nbformat_minor": 4
}